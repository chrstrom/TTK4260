{
 "cells": [
  {
   "cell_type": "markdown",
   "metadata": {},
   "source": [
    "# Assignment 02 - The simplest model order selection\n",
    "\n",
    "The assignment extends Assignment 01 by adding two ingredients:\n",
    "1. considering not only Least Squares but also Maximum Likelihood\n",
    "2. adding the possibility of choosing different model orders"
   ]
  },
  {
   "cell_type": "markdown",
   "metadata": {},
   "source": [
    "# task 2.1\n",
    "\n",
    "Consider the same situation of tasks 1.1 and 1.2 in assignment 1, but with the additional possibility of ‘faulty measurements’ in the following sense: with a probability $\\gamma$ the sensor returns something meaningless, i.e., with probability $\\gamma$ $e_t$ is so that $y_t = 100$. With probability $1 - \\gamma$, instead, the sensor works fine and thus the same probabilistic model for generating $e_t$ applies. Note: the outlier events are i.i.d., i.e., the fact that one has an outlier at time $t$ does not modify the probability of having an outlier also at time $t+1$."
   ]
  },
  {
   "cell_type": "code",
   "execution_count": 227,
   "metadata": {},
   "outputs": [],
   "source": [
    "# importing the right packages\n",
    "import numpy as np\n",
    "import matplotlib.pyplot as plt\n",
    "import scipy.optimize as optimize"
   ]
  },
  {
   "cell_type": "code",
   "execution_count": 228,
   "metadata": {},
   "outputs": [],
   "source": [
    "# define the function that creates an arbitrary polynomial\n",
    "# that we will use also to create the scalar quadratic\n",
    "# 'true model'\n",
    "#\n",
    "# note that this function uses both 'lambda functions' and\n",
    "# the 'enumerate' function -- two features of python\n",
    "def arbitrary_poly(theta):\n",
    "    noiseless_y = lambda x: sum([p*(x**i) for i, p in enumerate(theta)])\n",
    "    return noiseless_y"
   ]
  },
  {
   "cell_type": "code",
   "execution_count": 229,
   "metadata": {},
   "outputs": [],
   "source": [
    "# Non-random generation between code executions.\n",
    "# Comment out if you want to repeat the same experiment over and over again\n",
    "# np.random.seed(123)"
   ]
  },
  {
   "cell_type": "code",
   "execution_count": 230,
   "metadata": {},
   "outputs": [],
   "source": [
    "# define the function for the mixture distribution\n",
    "def noise(gamma, alpha, beta, sigma, N):\n",
    "    \n",
    "    # generate the noises as before\n",
    "    if np.random.uniform() < alpha:\n",
    "        noise = np.random.normal(0, sigma, N)\n",
    "    else:\n",
    "        noise = np.random.laplace(0, beta, N)\n",
    "\n",
    "    # use \\infty as a placeholder for the iid events 'faulty measurement'\n",
    "    for i in range(N):\n",
    "        if np.random.uniform() < gamma:\n",
    "            noise[i] = np.inf\n",
    "    \n",
    "    return noise"
   ]
  },
  {
   "cell_type": "markdown",
   "metadata": {},
   "source": [
    "# task 2.2\n",
    "\n",
    "With respect to assignment 1, though, modify the $u_t$'s so to be 201 uniformly spaced values in $[-3, 3]$, and set $\\alpha = 0$ so that we have Laplacian noises (more precisely, with scale $\\beta = 1$). Keep the \"true model\" quadratic."
   ]
  },
  {
   "cell_type": "code",
   "execution_count": 231,
   "metadata": {},
   "outputs": [
    {
     "data": {
      "image/png": "[encoded data removed]",
      "text/plain": [
       "<Figure size 432x288 with 1 Axes>"
      ]
     },
     "metadata": {
      "needs_background": "light"
     },
     "output_type": "display_data"
    }
   ],
   "source": [
    "# for readability\n",
    "min_u = -3\n",
    "max_u = 3\n",
    "N     = 201 # number of samples\n",
    "\n",
    "# create the u_t's\n",
    "u = np.linspace(min_u, max_u, N)\n",
    "\n",
    "# set the required parameters\n",
    "theta_true = [1, -8, 4]\n",
    "gamma      = 0.2\n",
    "beta       = 1\n",
    "sigma      = 1\n",
    "alpha      = 0\n",
    "\n",
    "# create the noisy dataset\n",
    "noiseless_y = arbitrary_poly(theta_true) # use the lambda function\n",
    "y = noiseless_y( u ) + noise( gamma, alpha, beta, sigma, len(u) )\n",
    "\n",
    "# remember to account for the 'faulty measurements'!\n",
    "y[np.isinf(y)] = 100\n",
    "\n",
    "# plot the dataset, for debugging purposes\n",
    "x = np.linspace(start = min_u, stop = max_u, num = 100)\n",
    "plt.figure()\n",
    "plt.scatter(u, y,                  label = 'dataset')\n",
    "plt.plot(x, noiseless_y(x),  'k:', label = 'true model')\n",
    "plt.xlabel('u')\n",
    "plt.ylabel('y')\n",
    "plt.legend();"
   ]
  },
  {
   "cell_type": "markdown",
   "metadata": {},
   "source": [
    "# task 2.3\n",
    "\n",
    "Code both a Least Squares and a Maximum Likelihood estimator whose underlying assumption on the measurement noise is Laplacian.\n",
    "\n",
    "Add also the possibility of testing generic model structures (i.e., affine, quadratic, cubic, and so-on models)."
   ]
  },
  {
   "cell_type": "code",
   "execution_count": 232,
   "metadata": {},
   "outputs": [],
   "source": [
    "# define the function solving the LS problem asked in the assignment\n",
    "def LS_solver( u, y, model_order ):\n",
    "\n",
    "    # create the features matrix\n",
    "    U = u[:, np.newaxis] ** np.arange( model_order )\n",
    "\n",
    "    # compute the LS estimate by directly solving the normal equations\n",
    "    theta_hat = np.linalg.solve(U.T @ U, U.T @ y)\n",
    "\n",
    "    return theta_hat"
   ]
  },
  {
   "cell_type": "code",
   "execution_count": 233,
   "metadata": {},
   "outputs": [],
   "source": [
    "def laplace_log_likelihood(theta, u, y):\n",
    "    \n",
    "    # probability distribution p, \"know\" beta = 1 but leave for expm.\n",
    "    beta = 1\n",
    "    \n",
    "    U = u[:, np.newaxis] ** np.arange(len(theta))\n",
    "    mu = theta@U.T\n",
    "    negative_log_likelihood = -sum(np.log((1.0/(2*beta)*np.exp(-np.abs(y - mu)/beta))))\n",
    "    \n",
    "    return negative_log_likelihood"
   ]
  },
  {
   "cell_type": "code",
   "execution_count": 234,
   "metadata": {},
   "outputs": [],
   "source": [
    "# define the function solving the ML problem asked in the assignment\n",
    "def ML_solver( u, y, model_order ):\n",
    "\n",
    "    # compute the ML estimate by directly minimizing the log likelihood\n",
    "    opt_res = optimize.minimize(\n",
    "                fun     = laplace_log_likelihood,\n",
    "                x0      = np.zeros( model_order ),\n",
    "                args    = (u, y),\n",
    "                options = {'disp': False} )\n",
    "\n",
    "    # save the result in a more readable format\n",
    "    theta_hat = opt_res.x\n",
    "    \n",
    "    # debug\n",
    "    #print('estimated parameters ML = ', theta_hat)\n",
    "    \n",
    "    return theta_hat"
   ]
  },
  {
   "cell_type": "markdown",
   "metadata": {},
   "source": [
    "# task 2.4\n",
    "\n",
    "Split the dataset so that the first half is the training set, the second 25% is the test set, and the last 25% is the validation set.\n",
    "\n",
    "Code a function that returns the \"performance index\" of a generic estimate $\\widehat{\\theta}$ on a generic dataset $y$. The index shall be equal to the sum of the absolute deviations between the actually measured $y$'s and the predicted ones $\\widehat{y}_t$, i.e.,\n",
    "\n",
    "$$\n",
    "    \\widehat{y}_t\n",
    "    =\n",
    "    \\left[ \\widehat{\\theta}_0, \\widehat{\\theta}_1, \\widehat{\\theta}_2, \\ldots \\right]\n",
    "    \\left[ 1, u_t, u_t^2, \\ldots \\right]^T .\n",
    "$$"
   ]
  },
  {
   "cell_type": "code",
   "execution_count": 235,
   "metadata": {},
   "outputs": [],
   "source": [
    "# split the dataset\n",
    "training_u   = u[:100]\n",
    "training_y   = y[:100]\n",
    "#\n",
    "testing_u    = u[101:150]\n",
    "testing_y    = y[101:150]\n",
    "#\n",
    "validating_u = u[151:]\n",
    "validating_y = y[151:]"
   ]
  },
  {
   "cell_type": "code",
   "execution_count": 236,
   "metadata": {},
   "outputs": [],
   "source": [
    "# define the performance index\n",
    "def performance_index( measured_y, estimated_y ):\n",
    "    return sum([abs(y - y_hat) for y, y_hat in zip(measured_y, estimated_y)])"
   ]
  },
  {
   "cell_type": "code",
   "execution_count": 237,
   "metadata": {},
   "outputs": [
    {
     "name": "stdout",
     "output_type": "stream",
     "text": [
      "PI = Performance Index - lower is better\n",
      "PI LS on training set:  2675.0603179515506\n",
      "PI ML on training set:  1843.875019195568\n",
      "PI LS on test set:      2176.089594450781\n",
      "PI ML on test set:      1463.8873608056847\n"
     ]
    },
    {
     "data": {
      "image/png": "[encoded data removed]",
      "text/plain": [
       "<Figure size 432x288 with 1 Axes>"
      ]
     },
     "metadata": {
      "needs_background": "light"
     },
     "output_type": "display_data"
    }
   ],
   "source": [
    "# DEBUG\n",
    "# check that everything works\n",
    "\n",
    "# set a model order, just to check that things work\n",
    "guessed_model_order = 3\n",
    "\n",
    "# solve the LS and ML problems\n",
    "theta_hat_LS = LS_solver( training_u, training_y, guessed_model_order )\n",
    "theta_hat_ML = ML_solver( training_u, training_y, guessed_model_order )\n",
    "\n",
    "# compute the estimated models\n",
    "modeled_y_LS = arbitrary_poly(theta_hat_LS) # use the lambda function\n",
    "modeled_y_ML = arbitrary_poly(theta_hat_ML) # use the lambda function\n",
    "\n",
    "# plot the true model against the measurements and the estimated model\n",
    "x = np.linspace(start = min_u, stop = max_u, num = 100)\n",
    "plt.figure()\n",
    "plt.scatter(u, y,                  label = 'dataset')\n",
    "plt.plot(x, noiseless_y(x),  'k:', label = 'true model')\n",
    "plt.plot(x, modeled_y_LS(x), 'b',  label = 'estimated model LS')\n",
    "plt.plot(x, modeled_y_ML(x), 'r',  label = 'estimated model ML')\n",
    "plt.xlabel('u')\n",
    "plt.ylabel('y')\n",
    "plt.legend();\n",
    "\n",
    "# print the performance indexes\n",
    "print(\"PI = Performance Index - lower is better\")\n",
    "print( 'PI LS on training set: ', performance_index( training_y, modeled_y_LS(training_u) ) )\n",
    "print( 'PI ML on training set: ', performance_index( training_y, modeled_y_ML(training_u) ) )\n",
    "print( 'PI LS on test set:     ', performance_index( testing_y, modeled_y_LS(testing_u) ) )\n",
    "print( 'PI ML on test set:     ', performance_index( testing_y, modeled_y_ML(testing_u) ) )"
   ]
  },
  {
   "cell_type": "markdown",
   "metadata": {},
   "source": [
    "# task 2.5\n",
    "\n",
    "Comment the plot above. Why are these behaviours happening?"
   ]
  },
  {
   "cell_type": "markdown",
   "metadata": {},
   "source": [
    "The least-squares estimator is purely geometric, and does not rely on any assumptions about the data set and its distribution. The estimator thus struggles with the outliers, since they are weighed equally when minimizing the distance between the dataset and the thetas in the manifold of the assumed model.\n",
    "\n",
    "The maximum likelihood estimator however, does utilize assumptions about the distribution of the data. Here we assume laplacian noise (which is true), although we do not directly account for the outliers per say. However, the effect that the outliers have on the resulting estimate is greatly reduced since we \"believe\" less in the outliers as compared to the LS approach, and thus they affect the resulting thetas less."
   ]
  },
  {
   "cell_type": "markdown",
   "metadata": {},
   "source": [
    "# task 2.6\n",
    "\n",
    "Create a table summarizing how the performance indexes vary as a function of the model order of the estimator on the training and test sets."
   ]
  },
  {
   "cell_type": "code",
   "execution_count": 238,
   "metadata": {},
   "outputs": [
    {
     "name": "stdout",
     "output_type": "stream",
     "text": [
      "PI for LS w. order 1: 2380.247041064765\n",
      "PI for LS w. order 2: 1578.3769150437079\n",
      "PI for LS w. order 3: 2176.089594450781\n",
      "PI for LS w. order 4: 3872.1888101730483\n",
      "PI for LS w. order 5: 18215.347086380818\n",
      "\n",
      "\n",
      "\n",
      "PI for ML w. order 1: 2127.708659420074\n",
      "PI for ML w. order 2: 2311.101230387413\n",
      "PI for ML w. order 3: 1463.8873608056847\n",
      "PI for ML w. order 4: 1486.186141388482\n",
      "PI for ML w. order 5: 1604.6847797617463\n"
     ]
    }
   ],
   "source": [
    "# choose the max model order\n",
    "max_model_order = 5\n",
    "\n",
    "ls_pis = []\n",
    "ml_pis = []\n",
    "# cycle on the various model orders\n",
    "for current_order in range(1, max_model_order+1):\n",
    "\n",
    "    # train on the training set\n",
    "    theta_hat_LS = LS_solver( training_u, training_y, current_order )\n",
    "    theta_hat_ML = ML_solver( training_u, training_y, current_order )\n",
    "\n",
    "    # create the estimated models\n",
    "    modeled_y_LS = arbitrary_poly(theta_hat_LS) # use the lambda function\n",
    "    modeled_y_ML = arbitrary_poly(theta_hat_ML) # use the lambda function\n",
    "\n",
    "    # predict the test set\n",
    "    predicted_testing_y_LS = modeled_y_LS(testing_u)\n",
    "    predicted_testing_y_ML = modeled_y_ML(testing_u)\n",
    "\n",
    "    # compute the performance indexes on the predictive capabilities on the test set\n",
    "    PI_LS = performance_index(predicted_testing_y_LS, testing_y)\n",
    "    PI_ML = performance_index(predicted_testing_y_ML, testing_y)\n",
    "    \n",
    "    ls_pis.append(PI_LS)\n",
    "    ml_pis.append(PI_ML)\n",
    "    \n",
    "for o, pi in enumerate(ls_pis):\n",
    "    # print debug info\n",
    "    print(f\"PI for LS w. order {o+1}: {pi}\")\n",
    "    \n",
    "print(\"\\n\\n\") \n",
    "\n",
    "for o, pi in enumerate(ml_pis):\n",
    "    print(f\"PI for ML w. order {o+1}: {pi}\")\n"
   ]
  },
  {
   "cell_type": "markdown",
   "metadata": {},
   "source": [
    "# task 2.7\n",
    "\n",
    "Rerun the code for different values of $\\gamma$, and check how the performance capabilities of the LS and ML estimators on the training set vary. Explicitly say:\n",
    "\n",
    "1. Which estimator seems more robust, in average? And why?\n",
    "2. Which estimator is so that its performance degrade least gracefully with increasing $\\gamma$? And why?\n",
    "3. Which model order would you choose, given the simulations that you have run? And why?"
   ]
  },
  {
   "cell_type": "markdown",
   "metadata": {},
   "source": [
    "1: Thinking of the term \"robustness\" as \"less prone to error given changes in the model and/or dataset\" then I would consider the ML estimator as more robust than the LS estimator. This is reasonable given that we, as the programmer in the driver seat, have added laplacian noise, and are correctly assuming that the model is corrupted by the laplacian noise. Because of the same arguments as above, our \"belief\" of the laplacian distribution leads to the outliers affecting the estimator less.\n",
    "\n",
    "2: I would argue that the ML estimator degrades least gracefully, since it suddenly \"jumps\" to following the outliers at a certain point. The LS estimator performs worse over most gammas, although the performance doesn't jump around. This happens since, at a certain point, the outliers \"win\" over our assumption that the data is laplacian distributed - \"winning\" as in, the outliers are more prevalent in the dataset than the modelled data, such that the argmax of the distribution of the data describes the outliers themselves, and not the model generating the actual data.\n",
    "\n",
    "3: I would choose order 3 or 4 since the performance for the ML estimator across most gammas is the best for these orders. I prioritize the ML estimator performing well over the LS estimator due to the ML estimator being more robut/a better fit for this problem (as it is defined at least)."
   ]
  }
 ],
 "metadata": {
  "kernelspec": {
   "display_name": "Python 3 (ipykernel)",
   "language": "python",
   "name": "python3"
  },
  "language_info": {
   "codemirror_mode": {
    "name": "ipython",
    "version": 3
   },
   "file_extension": ".py",
   "mimetype": "text/x-python",
   "name": "python",
   "nbconvert_exporter": "python",
   "pygments_lexer": "ipython3",
   "version": "3.8.10"
  }
 },
 "nbformat": 4,
 "nbformat_minor": 4
}
